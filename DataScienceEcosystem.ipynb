{
  "metadata": {
    "kernelspec": {
      "name": "python",
      "display_name": "Python (Pyodide)",
      "language": "python"
    },
    "language_info": {
      "codemirror_mode": {
        "name": "python",
        "version": 3
      },
      "file_extension": ".py",
      "mimetype": "text/x-python",
      "name": "python",
      "nbconvert_exporter": "python",
      "pygments_lexer": "ipython3",
      "version": "3.8"
    }
  },
  "nbformat_minor": 5,
  "nbformat": 4,
  "cells": [
    {
      "id": "3abad48d-fff5-4e0a-afe1-2c2ceb307fb7",
      "cell_type": "markdown",
      "source": "# Data Science Tools and Ecosystem\nIn this notebook, Data Science Tools and Ecosystem are summarized.\nSome of the popular languages that Data Scientists use are:\n1. Python  \n2. R  \n3. SQL\nSome of the commonly used libraries used by Data Scientists include:\n1. Pandas  \n2. NumPy  \n3. Matplotlib\n\n| Data Science Tools         |\n|---------------------------|\n| Jupyter Notebook          |\n| RStudio                   |\n| Apache Zeppelin           |\n\n ### Below are a few examples of evaluating arithmetic expressions in Python.\n\n\n\n",
      "metadata": {}
    },
    {
      "id": "abcef061-915c-4a23-adf8-9c34607f1504",
      "cell_type": "code",
      "source": "# This a simple arithmetic expression to multiply then add integers\n(3*4)+5",
      "metadata": {
        "trusted": true
      },
      "outputs": [
        {
          "execution_count": 5,
          "output_type": "execute_result",
          "data": {
            "text/plain": "17"
          },
          "metadata": {}
        }
      ],
      "execution_count": 5
    },
    {
      "id": "38680926-ac2d-4690-9a33-e5c5c524834d",
      "cell_type": "code",
      "source": "# This will convert 200 minutes to hours by dividing by 60\n200 / 60",
      "metadata": {
        "trusted": true
      },
      "outputs": [
        {
          "execution_count": 6,
          "output_type": "execute_result",
          "data": {
            "text/plain": "3.3333333333333335"
          },
          "metadata": {}
        }
      ],
      "execution_count": 6
    },
    {
      "id": "c8fab75c-65e9-4500-afe8-0c9bfd0e5d70",
      "cell_type": "markdown",
      "source": "**Objectives:**\n- List popular languages for Data Science  \n- List commonly used libraries  \n- Demonstrate arithmetic expressions in Python  \n- Introduce open-source development tools  \n- Share work using GitHub\n",
      "metadata": {}
    },
    {
      "id": "2bf2fd19-9be8-4972-b2a6-b757bd0f6fc6",
      "cell_type": "markdown",
      "source": "## Author  \nKornél Mészáros",
      "metadata": {}
    }
  ]
}